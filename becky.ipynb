{
 "cells": [
  {
   "cell_type": "code",
   "execution_count": 1,
   "metadata": {},
   "outputs": [],
   "source": [
    "import pyttsx3\n",
    "import datetime\n",
    "import speech_recognition as sr\n",
    "import wikipedia\n",
    "import webbrowser\n",
    "import os\n",
    "import numpy as np"
   ]
  },
  {
   "cell_type": "code",
   "execution_count": 2,
   "metadata": {},
   "outputs": [],
   "source": [
    "engine=pyttsx3.init('sapi5')"
   ]
  },
  {
   "cell_type": "code",
   "execution_count": 3,
   "metadata": {},
   "outputs": [],
   "source": [
    "voices=engine.getProperty('voices')"
   ]
  },
  {
   "cell_type": "code",
   "execution_count": 4,
   "metadata": {},
   "outputs": [],
   "source": [
    "engine.setProperty('voice',voices[1].id)"
   ]
  },
  {
   "cell_type": "code",
   "execution_count": 5,
   "metadata": {},
   "outputs": [],
   "source": [
    "def speak(audio):\n",
    "    engine.say(audio)\n",
    "    engine.runAndWait()\n",
    "    "
   ]
  },
  {
   "cell_type": "code",
   "execution_count": 6,
   "metadata": {},
   "outputs": [],
   "source": [
    "def wish(query):\n",
    "    hour=int(datetime.datetime.now().hour)\n",
    "    if(hour>=0 and hour <12):\n",
    "        speak(\"good morning sir!\")\n",
    "    elif(hour>=12 and hour<18):\n",
    "        speak(\"good afternoon sir!\")\n",
    "    else:\n",
    "        speak(\"good evening sir!\")\n",
    "    speak(\"i am becky ! how may i help you?\")\n",
    "    query=takeCommand().lower()\n",
    "    if \"say hi\" in query:\n",
    "        speak(\"hi ! ellavunnaru!\")"
   ]
  },
  {
   "cell_type": "code",
   "execution_count": 7,
   "metadata": {},
   "outputs": [],
   "source": [
    "#if __name__ == \"__main__\":\n",
    "    #wish()\n",
    "    "
   ]
  },
  {
   "cell_type": "code",
   "execution_count": 8,
   "metadata": {},
   "outputs": [],
   "source": [
    "def takeCommand():\n",
    "    r=sr.Recognizer()\n",
    "    with sr.Microphone() as source:\n",
    "        print(\"Listening....\")\n",
    "        audio=r.listen(source)\n",
    "    try:\n",
    "        print(\"Recognizing....\")\n",
    "        query=r.recognize_google(audio,language='en-in')\n",
    "    except Exception as e:\n",
    "        speak(\"Say that again please....\")\n",
    "        return \"None\"\n",
    "    return query"
   ]
  },
  {
   "cell_type": "code",
   "execution_count": null,
   "metadata": {},
   "outputs": [
    {
     "name": "stdout",
     "output_type": "stream",
     "text": [
      "Listening....\n",
      "Recognizing....\n",
      "Listening....\n",
      "Recognizing....\n",
      "Listening....\n",
      "Recognizing....\n",
      "Listening....\n",
      "Recognizing....\n",
      "Listening....\n",
      "Recognizing....\n",
      "Listening....\n"
     ]
    }
   ],
   "source": [
    "if __name__ == \"__main__\":\n",
    "    query=takeCommand().lower()\n",
    "    if \"hai\" or \"hey\" or \"hello\" in query:\n",
    "       wish(query)\n",
    "    while True:\n",
    "        query=takeCommand().lower()\n",
    "        if ('what'and 'is' and 'the' and 'time') in query:\n",
    "            hour=(datetime.datetime.now().hour)\n",
    "            minute=(datetime.datetime.now().minute)\n",
    "            if(hour<=12):\n",
    "                speak(\"the time is\"+str(hour)+\"!\"+str(minute)+\"AM\")\n",
    "            else:\n",
    "                speak(\"the time is\"+str(hour-12)+\"!\"+str(minute)+\"PM\")\n",
    "        elif 'open' in query:\n",
    "            if 'youtube' in query:\n",
    "                webbrowser.open(\"youtube.com\")\n",
    "            elif 'google' in query:\n",
    "                webbrowser.open(\"google.com\")\n",
    "            elif 'facebook' in query:\n",
    "                webbrowser.open(\"facebook.com\")\n",
    "            elif 'mail' in query:\n",
    "                webbrowser.open(\"gmail.com\")\n",
    "        elif ((('who'and 'made'and 'you')in query) or (('where'and 'are'and 'you'and 'born')in query) or (('who'and 'are'and 'you')in query) or (('what'and'are'and'you')in query) ):\n",
    "            speak(\"i am a voice assistant , i am made by my master Dr.Y phani !rathan on experimenting in his lab\")\n",
    "        elif 'play ' and 'music' in query:\n",
    "            music_dir='C:\\Users\\Phani\\Music'\n",
    "            songs=os.listdir(music_dir)\n",
    "            num=np.random.randint(1,5)\n",
    "            os.startfile(os.path.join(music_dir,songs[num]))\n",
    "        elif (('what' and 'is')in query)or (('say'and'something'and'about')in query):\n",
    "            speak('please wait sir i am searching for your request')\n",
    "            if 'what is' in query:\n",
    "                query=query.replace(\"what is\",\"\")\n",
    "            else:\n",
    "                query=query.replace(\"say something about\",\"\")\n",
    "            results=wikipedia.summary(query,sentences=2)\n",
    "            speak(\"On my search i have found that !\")\n",
    "            speak(results)\n",
    "            \n",
    "        elif 'stop' in query:\n",
    "            break"
   ]
  },
  {
   "cell_type": "code",
   "execution_count": null,
   "metadata": {},
   "outputs": [
    {
     "name": "stdout",
     "output_type": "stream",
     "text": [
      "Listening....\n"
     ]
    }
   ],
   "source": [
    "wish(\"hi\")"
   ]
  },
  {
   "cell_type": "code",
   "execution_count": null,
   "metadata": {},
   "outputs": [],
   "source": []
  },
  {
   "cell_type": "code",
   "execution_count": null,
   "metadata": {},
   "outputs": [],
   "source": []
  },
  {
   "cell_type": "code",
   "execution_count": null,
   "metadata": {},
   "outputs": [],
   "source": []
  },
  {
   "cell_type": "code",
   "execution_count": null,
   "metadata": {},
   "outputs": [],
   "source": []
  },
  {
   "cell_type": "code",
   "execution_count": null,
   "metadata": {},
   "outputs": [],
   "source": []
  },
  {
   "cell_type": "code",
   "execution_count": null,
   "metadata": {},
   "outputs": [],
   "source": []
  },
  {
   "cell_type": "code",
   "execution_count": null,
   "metadata": {},
   "outputs": [],
   "source": []
  }
 ],
 "metadata": {
  "kernelspec": {
   "display_name": "Python 2",
   "language": "python",
   "name": "python2"
  },
  "language_info": {
   "codemirror_mode": {
    "name": "ipython",
    "version": 2
   },
   "file_extension": ".py",
   "mimetype": "text/x-python",
   "name": "python",
   "nbconvert_exporter": "python",
   "pygments_lexer": "ipython2",
   "version": "2.7.16"
  },
  "widgets": {
   "state": {},
   "version": "1.1.2"
  }
 },
 "nbformat": 4,
 "nbformat_minor": 2
}
